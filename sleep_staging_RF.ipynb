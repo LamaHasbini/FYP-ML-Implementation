{
 "cells": [
  {
   "cell_type": "code",
   "execution_count": 68,
   "metadata": {},
   "outputs": [],
   "source": [
    "import pandas as pd\n",
    "import os\n",
    "from sklearn.ensemble import RandomForestClassifier\n",
    "from sklearn.model_selection import train_test_split\n",
    "from imblearn.over_sampling import SMOTE\n",
    "from sklearn.metrics import classification_report, confusion_matrix"
   ]
  },
  {
   "cell_type": "code",
   "execution_count": 69,
   "metadata": {},
   "outputs": [],
   "source": [
    "data_directory = '/Users/lamahasbini/Library/CloudStorage/OneDrive-AmericanUniversityofBeirut/FYP 2024-25 ECE/FYP_Fall_2024-2025/ML Implementation/EDA Analysis Input Files'\n",
    "combined_df = pd.DataFrame()\n",
    "\n",
    "for file in os.listdir(data_directory):\n",
    "    if file.endswith('.xlsx'):\n",
    "        file_path = os.path.join(data_directory, file)\n",
    "        temp = pd.read_excel(file_path, sheet_name='Sheet3')\n",
    "        parts = file.replace('.xlsx', '').split('_')\n",
    "        if len(parts) >= 3 and parts[-1] == \"new\":\n",
    "            patient_id = f\"{parts[-3]}_{parts[-2]}\"\n",
    "        else:\n",
    "            patient_id = f\"{parts[-2]}_{parts[-1]}\"\n",
    "        \n",
    "        temp['Patient_ID'] = patient_id  \n",
    "        combined_df = pd.concat([combined_df, temp], ignore_index=True)"
   ]
  },
  {
   "cell_type": "code",
   "execution_count": 70,
   "metadata": {},
   "outputs": [
    {
     "name": "stdout",
     "output_type": "stream",
     "text": [
      "   Onset_EEG Sleep_stage            Date_EEG  EDR_count      Date_E4_synced  \\\n",
      "0   26759.25           1 2017-07-14 22:47:39          0 2017-07-14 22:46:10   \n",
      "1   26788.25           W 2017-07-14 22:48:08          0 2017-07-14 22:46:39   \n",
      "2   26818.25           W 2017-07-14 22:48:38          0 2017-07-14 22:47:09   \n",
      "3   26848.25           W 2017-07-14 22:49:08          0 2017-07-14 22:47:39   \n",
      "4   26878.25           W 2017-07-14 22:49:38          0 2017-07-14 22:48:09   \n",
      "\n",
      "   Storm_mark  Epoch duration Patient_ID  Epoch duration (rounded)  \\\n",
      "0           0             NaN     P31_LW                       NaN   \n",
      "1           0             NaN     P31_LW                       NaN   \n",
      "2           0             NaN     P31_LW                       NaN   \n",
      "3           0             NaN     P31_LW                       NaN   \n",
      "4           0             NaN     P31_LW                       NaN   \n",
      "\n",
      "   Average EDA per epoch  \n",
      "0                    NaN  \n",
      "1                    NaN  \n",
      "2                    NaN  \n",
      "3                    NaN  \n",
      "4                    NaN  \n",
      "Total records combined: 46128\n"
     ]
    }
   ],
   "source": [
    "print(combined_df.head())  \n",
    "print(f\"Total records combined: {len(combined_df)}\")"
   ]
  },
  {
   "cell_type": "code",
   "execution_count": 71,
   "metadata": {},
   "outputs": [],
   "source": [
    "combined_df = combined_df.dropna()"
   ]
  },
  {
   "cell_type": "code",
   "execution_count": 72,
   "metadata": {},
   "outputs": [
    {
     "name": "stdout",
     "output_type": "stream",
     "text": [
      "       EDR_count  Storm_mark  Epoch duration  Epoch duration (rounded)  \\\n",
      "1068           0           0       29.999998                      30.0   \n",
      "1069           0           0       30.000008                      30.0   \n",
      "1070           0           0       28.999994                      29.0   \n",
      "1071           0           0       29.999998                      30.0   \n",
      "1072           0           0       30.000008                      30.0   \n",
      "...          ...         ...             ...                       ...   \n",
      "46122          0           0       29.000004                      29.0   \n",
      "46123          0           0       29.999998                      30.0   \n",
      "46124          0           0       29.999998                      30.0   \n",
      "46125          0           0       29.999998                      30.0   \n",
      "46126          0           0       29.000004                      29.0   \n",
      "\n",
      "       Average EDA per epoch  Date_E4_synced_hour  \n",
      "1068                0.259464                   23  \n",
      "1069                0.262164                   23  \n",
      "1070                0.263591                   23  \n",
      "1071                0.264969                   23  \n",
      "1072                0.265454                   23  \n",
      "...                      ...                  ...  \n",
      "46122               0.328231                    8  \n",
      "46123               0.328325                    8  \n",
      "46124               0.329665                    8  \n",
      "46125               0.332353                    8  \n",
      "46126               0.332331                    8  \n",
      "\n",
      "[44638 rows x 6 columns]\n"
     ]
    }
   ],
   "source": [
    "X = combined_df.drop(['Sleep_stage', 'Onset_EEG', 'Date_EEG', 'Patient_ID'], axis=1)\n",
    "X['Date_E4_synced_hour'] = X['Date_E4_synced'].dt.hour\n",
    "X = X.drop(['Date_E4_synced'], axis=1)\n",
    "print(X)\n",
    "\n",
    "y = combined_df['Sleep_stage']\n",
    "y = y.astype(str)"
   ]
  },
  {
   "cell_type": "code",
   "execution_count": 73,
   "metadata": {},
   "outputs": [
    {
     "data": {
      "text/plain": [
       "EDR_count                   0\n",
       "Storm_mark                  0\n",
       "Epoch duration              0\n",
       "Epoch duration (rounded)    0\n",
       "Average EDA per epoch       0\n",
       "Date_E4_synced_hour         0\n",
       "dtype: int64"
      ]
     },
     "execution_count": 73,
     "metadata": {},
     "output_type": "execute_result"
    }
   ],
   "source": [
    "X.isnull().sum()"
   ]
  },
  {
   "cell_type": "code",
   "execution_count": 74,
   "metadata": {},
   "outputs": [
    {
     "name": "stderr",
     "output_type": "stream",
     "text": [
      "/opt/anaconda3/envs/myenv/lib/python3.9/site-packages/sklearn/base.py:474: FutureWarning: `BaseEstimator._validate_data` is deprecated in 1.6 and will be removed in 1.7. Use `sklearn.utils.validation.validate_data` instead. This function becomes public and is part of the scikit-learn developer API.\n",
      "  warnings.warn(\n"
     ]
    }
   ],
   "source": [
    "sm = SMOTE(random_state=42)\n",
    "X, y = sm.fit_resample(X, y)"
   ]
  },
  {
   "cell_type": "code",
   "execution_count": 75,
   "metadata": {},
   "outputs": [
    {
     "name": "stdout",
     "output_type": "stream",
     "text": [
      "[[2371  644  172  448  565  350]\n",
      " [ 682 2012  271  501  742  430]\n",
      " [ 182  273 3606  192  170  129]\n",
      " [ 420  481  227 2635  414  325]\n",
      " [ 554  646  194  436 2477  345]\n",
      " [ 369  406  145  345  352 2975]]\n"
     ]
    }
   ],
   "source": [
    "X_train, X_test, y_train, y_test = train_test_split(X, y, test_size=0.2, random_state=42)\n",
    "\n",
    "rf = RandomForestClassifier(n_estimators=100, random_state=42)\n",
    "rf.fit(X_train, y_train)\n",
    "y_pred = rf.predict(X_test)\n",
    "print(confusion_matrix(y_test, y_pred))"
   ]
  },
  {
   "cell_type": "code",
   "execution_count": 76,
   "metadata": {},
   "outputs": [
    {
     "name": "stdout",
     "output_type": "stream",
     "text": [
      "              precision    recall  f1-score   support\n",
      "\n",
      "           1       0.52      0.52      0.52      4550\n",
      "           2       0.45      0.43      0.44      4638\n",
      "           3       0.78      0.79      0.79      4552\n",
      "           R       0.58      0.59      0.58      4502\n",
      "           W       0.52      0.53      0.53      4652\n",
      "           r       0.65      0.65      0.65      4592\n",
      "\n",
      "    accuracy                           0.58     27486\n",
      "   macro avg       0.58      0.59      0.58     27486\n",
      "weighted avg       0.58      0.58      0.58     27486\n",
      "\n",
      "[[2371  644  172  448  565  350]\n",
      " [ 682 2012  271  501  742  430]\n",
      " [ 182  273 3606  192  170  129]\n",
      " [ 420  481  227 2635  414  325]\n",
      " [ 554  646  194  436 2477  345]\n",
      " [ 369  406  145  345  352 2975]]\n"
     ]
    }
   ],
   "source": [
    "print(classification_report(y_test, y_pred))\n",
    "print(confusion_matrix(y_test, y_pred))"
   ]
  }
 ],
 "metadata": {
  "kernelspec": {
   "display_name": "myenv",
   "language": "python",
   "name": "python3"
  },
  "language_info": {
   "codemirror_mode": {
    "name": "ipython",
    "version": 3
   },
   "file_extension": ".py",
   "mimetype": "text/x-python",
   "name": "python",
   "nbconvert_exporter": "python",
   "pygments_lexer": "ipython3",
   "version": "3.9.16"
  }
 },
 "nbformat": 4,
 "nbformat_minor": 2
}
