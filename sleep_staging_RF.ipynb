{
 "cells": [
  {
   "cell_type": "code",
   "execution_count": 200,
   "metadata": {},
   "outputs": [],
   "source": [
    "import pandas as pd\n",
    "import os\n",
    "from sklearn.ensemble import RandomForestClassifier\n",
    "from sklearn.model_selection import train_test_split\n",
    "from imblearn.over_sampling import SMOTE\n",
    "from sklearn.metrics import classification_report, confusion_matrix\n",
    "import matplotlib.pyplot as plt\n",
    "import seaborn as sns\n",
    "import numpy as np\n",
    "from scipy.stats import mode, entropy\n",
    "from scipy.linalg import svd\n"
   ]
  },
  {
   "cell_type": "code",
   "execution_count": 201,
   "metadata": {},
   "outputs": [],
   "source": [
    "data_directory = '/Users/lamahasbini/Library/CloudStorage/OneDrive-AmericanUniversityofBeirut/FYP 2024-25 ECE/FYP_Fall_2024-2025/ML Implementation/EDA Analysis Input Files'\n",
    "combined_df = pd.DataFrame()\n",
    "\n",
    "for file in os.listdir(data_directory):\n",
    "    if file.endswith('.xlsx'):\n",
    "        file_path = os.path.join(data_directory, file)\n",
    "        temp = pd.read_excel(file_path, sheet_name='Sheet3')\n",
    "        parts = file.replace('.xlsx', '').split('_')\n",
    "        if len(parts) >= 3 and parts[-1] == \"new\":\n",
    "            patient_id = f\"{parts[-3]}_{parts[-2]}\"\n",
    "        else:\n",
    "            patient_id = f\"{parts[-2]}_{parts[-1]}\"\n",
    "        \n",
    "        temp['Patient_ID'] = patient_id  \n",
    "        combined_df = pd.concat([combined_df, temp], ignore_index=True)"
   ]
  },
  {
   "cell_type": "code",
   "execution_count": 202,
   "metadata": {},
   "outputs": [
    {
     "name": "stdout",
     "output_type": "stream",
     "text": [
      "   Onset_EEG Sleep_stage            Date_EEG  EDR_count      Date_E4_synced  \\\n",
      "0   26759.25           1 2017-07-14 22:47:39          0 2017-07-14 22:46:10   \n",
      "1   26788.25           W 2017-07-14 22:48:08          0 2017-07-14 22:46:39   \n",
      "2   26818.25           W 2017-07-14 22:48:38          0 2017-07-14 22:47:09   \n",
      "3   26848.25           W 2017-07-14 22:49:08          0 2017-07-14 22:47:39   \n",
      "4   26878.25           W 2017-07-14 22:49:38          0 2017-07-14 22:48:09   \n",
      "\n",
      "   Storm_mark  Epoch duration  Epoch duration (rounded)  \\\n",
      "0           0       29.000004                      29.0   \n",
      "1           0       29.999998                      30.0   \n",
      "2           0       29.999998                      30.0   \n",
      "3           0       29.999998                      30.0   \n",
      "4           0       29.000004                      29.0   \n",
      "\n",
      "   Average EDA per epoch Patient_ID  \n",
      "0               0.114790     P31_LW  \n",
      "1               0.109703     P31_LW  \n",
      "2               0.106686     P31_LW  \n",
      "3               0.106652     P31_LW  \n",
      "4               0.106305     P31_LW  \n",
      "Total records combined: 46128\n"
     ]
    }
   ],
   "source": [
    "print(combined_df.head())  \n",
    "print(f\"Total records combined: {len(combined_df)}\")"
   ]
  },
  {
   "cell_type": "code",
   "execution_count": 203,
   "metadata": {},
   "outputs": [
    {
     "data": {
      "text/plain": [
       "Onset_EEG                     0\n",
       "Sleep_stage                   0\n",
       "Date_EEG                      0\n",
       "EDR_count                     0\n",
       "Date_E4_synced                0\n",
       "Storm_mark                    0\n",
       "Epoch duration               49\n",
       "Epoch duration (rounded)     49\n",
       "Average EDA per epoch       423\n",
       "Patient_ID                    0\n",
       "dtype: int64"
      ]
     },
     "execution_count": 203,
     "metadata": {},
     "output_type": "execute_result"
    }
   ],
   "source": [
    "combined_df.isnull().sum()"
   ]
  },
  {
   "cell_type": "code",
   "execution_count": 204,
   "metadata": {},
   "outputs": [],
   "source": [
    "combined_df = combined_df.dropna()"
   ]
  },
  {
   "cell_type": "code",
   "execution_count": 205,
   "metadata": {},
   "outputs": [
    {
     "name": "stdout",
     "output_type": "stream",
     "text": [
      "       EDR_count  Storm_mark  Epoch duration  Epoch duration (rounded)  \\\n",
      "0              0           0       29.000004                      29.0   \n",
      "1              0           0       29.999998                      30.0   \n",
      "2              0           0       29.999998                      30.0   \n",
      "3              0           0       29.999998                      30.0   \n",
      "4              0           0       29.000004                      29.0   \n",
      "...          ...         ...             ...                       ...   \n",
      "46122          0           0       29.000004                      29.0   \n",
      "46123          0           0       29.999998                      30.0   \n",
      "46124          0           0       29.999998                      30.0   \n",
      "46125          0           0       29.999998                      30.0   \n",
      "46126          0           0       29.000004                      29.0   \n",
      "\n",
      "       Average EDA per epoch  Date_E4_synced_hour  \n",
      "0                   0.114790                   22  \n",
      "1                   0.109703                   22  \n",
      "2                   0.106686                   22  \n",
      "3                   0.106652                   22  \n",
      "4                   0.106305                   22  \n",
      "...                      ...                  ...  \n",
      "46122               0.328231                    8  \n",
      "46123               0.328325                    8  \n",
      "46124               0.329665                    8  \n",
      "46125               0.332353                    8  \n",
      "46126               0.332331                    8  \n",
      "\n",
      "[45705 rows x 6 columns]\n"
     ]
    }
   ],
   "source": [
    "X = combined_df.drop(['Sleep_stage', 'Onset_EEG', 'Date_EEG', 'Patient_ID'], axis=1)\n",
    "X['Date_E4_synced_hour'] = X['Date_E4_synced'].dt.hour\n",
    "X = X.drop(['Date_E4_synced'], axis=1)\n",
    "print(X)\n",
    "\n",
    "y = combined_df['Sleep_stage']\n",
    "y = y.astype(str)\n",
    "y = y.replace('3', '2')\n",
    "y = y.replace('r', 'R')"
   ]
  },
  {
   "cell_type": "code",
   "execution_count": 206,
   "metadata": {},
   "outputs": [
    {
     "data": {
      "text/plain": [
       "EDR_count                   0\n",
       "Storm_mark                  0\n",
       "Epoch duration              0\n",
       "Epoch duration (rounded)    0\n",
       "Average EDA per epoch       0\n",
       "Date_E4_synced_hour         0\n",
       "dtype: int64"
      ]
     },
     "execution_count": 206,
     "metadata": {},
     "output_type": "execute_result"
    }
   ],
   "source": [
    "X.isnull().sum()"
   ]
  },
  {
   "cell_type": "code",
   "execution_count": 207,
   "metadata": {},
   "outputs": [
    {
     "name": "stderr",
     "output_type": "stream",
     "text": [
      "/opt/anaconda3/envs/myenv/lib/python3.9/site-packages/sklearn/base.py:474: FutureWarning: `BaseEstimator._validate_data` is deprecated in 1.6 and will be removed in 1.7. Use `sklearn.utils.validation.validate_data` instead. This function becomes public and is part of the scikit-learn developer API.\n",
      "  warnings.warn(\n"
     ]
    }
   ],
   "source": [
    "sm = SMOTE(random_state=42)\n",
    "X, y = sm.fit_resample(X, y)"
   ]
  },
  {
   "cell_type": "code",
   "execution_count": 208,
   "metadata": {},
   "outputs": [],
   "source": [
    "X_train, X_test, y_train, y_test = train_test_split(X, y, test_size=0.2, random_state=42)\n",
    "\n",
    "rf = RandomForestClassifier(n_estimators=100, random_state=42)\n",
    "rf.fit(X_train, y_train)\n",
    "y_pred = rf.predict(X_test)"
   ]
  },
  {
   "cell_type": "code",
   "execution_count": 209,
   "metadata": {},
   "outputs": [
    {
     "name": "stdout",
     "output_type": "stream",
     "text": [
      "              precision    recall  f1-score   support\n",
      "\n",
      "           1       0.59      0.59      0.59      5045\n",
      "           2       0.52      0.50      0.51      5034\n",
      "           R       0.58      0.59      0.58      4960\n",
      "           W       0.56      0.58      0.57      4912\n",
      "\n",
      "    accuracy                           0.56     19951\n",
      "   macro avg       0.56      0.56      0.56     19951\n",
      "weighted avg       0.56      0.56      0.56     19951\n",
      "\n"
     ]
    }
   ],
   "source": [
    "print(classification_report(y_test, y_pred))"
   ]
  },
  {
   "cell_type": "code",
   "execution_count": 210,
   "metadata": {},
   "outputs": [
    {
     "data": {
      "image/png": "[encoded data removed]",
      "text/plain": [
       "<Figure size 1000x700 with 1 Axes>"
      ]
     },
     "metadata": {},
     "output_type": "display_data"
    }
   ],
   "source": [
    "conf_matrix = confusion_matrix(y_test, y_pred)\n",
    "\n",
    "# Plotting the confusion matrix\n",
    "plt.figure(figsize=(10, 7))  # Set the size of the plot\n",
    "sns.heatmap(conf_matrix, annot=True, fmt='g', cmap='Blues', \n",
    "            xticklabels=['1', '2', 'R', 'W'],  \n",
    "            yticklabels=['1', '2', 'R', 'W'],\n",
    "            cbar=False)  # Disable color bar\n",
    "\n",
    "plt.title('Confusion Matrix')\n",
    "plt.xlabel('Predicted Labels')\n",
    "plt.ylabel('True Labels')\n",
    "plt.show()"
   ]
  },
  {
   "cell_type": "code",
   "execution_count": null,
   "metadata": {},
   "outputs": [
    {
     "name": "stdout",
     "output_type": "stream",
     "text": [
      "Processing P31_LW...\n"
     ]
    },
    {
     "ename": "IndexError",
     "evalue": "invalid index to scalar variable.",
     "output_type": "error",
     "traceback": [
      "\u001b[0;31m---------------------------------------------------------------------------\u001b[0m",
      "\u001b[0;31mIndexError\u001b[0m                                Traceback (most recent call last)",
      "Cell \u001b[0;32mIn[211], line 69\u001b[0m\n\u001b[1;32m     66\u001b[0m     \u001b[38;5;28;01mbreak\u001b[39;00m  \u001b[38;5;66;03m# Stop if we run out of data\u001b[39;00m\n\u001b[1;32m     68\u001b[0m epoch_signal \u001b[38;5;241m=\u001b[39m eda_signal[start_idx:end_idx]\n\u001b[0;32m---> 69\u001b[0m features \u001b[38;5;241m=\u001b[39m \u001b[43mextract_features\u001b[49m\u001b[43m(\u001b[49m\u001b[43mepoch_signal\u001b[49m\u001b[43m)\u001b[49m\n\u001b[1;32m     70\u001b[0m features[\u001b[38;5;124m\"\u001b[39m\u001b[38;5;124mPatient_ID\u001b[39m\u001b[38;5;124m\"\u001b[39m] \u001b[38;5;241m=\u001b[39m patient_id\n\u001b[1;32m     71\u001b[0m feature_list\u001b[38;5;241m.\u001b[39mappend(features)\n",
      "Cell \u001b[0;32mIn[211], line 11\u001b[0m, in \u001b[0;36mextract_features\u001b[0;34m(signal)\u001b[0m\n\u001b[1;32m      8\u001b[0m     \u001b[38;5;28;01mreturn\u001b[39;00m {key: np\u001b[38;5;241m.\u001b[39mnan \u001b[38;5;28;01mfor\u001b[39;00m key \u001b[38;5;129;01min\u001b[39;00m [\u001b[38;5;124m\"\u001b[39m\u001b[38;5;124mMode\u001b[39m\u001b[38;5;124m\"\u001b[39m, \u001b[38;5;124m\"\u001b[39m\u001b[38;5;124mMedian\u001b[39m\u001b[38;5;124m\"\u001b[39m, \u001b[38;5;124m\"\u001b[39m\u001b[38;5;124mMaxAbs\u001b[39m\u001b[38;5;124m\"\u001b[39m, \u001b[38;5;124m\"\u001b[39m\u001b[38;5;124mLineLength\u001b[39m\u001b[38;5;124m\"\u001b[39m, \u001b[38;5;124m\"\u001b[39m\u001b[38;5;124m10thQuantile\u001b[39m\u001b[38;5;124m\"\u001b[39m, \u001b[38;5;124m\"\u001b[39m\u001b[38;5;124m75thQuantile\u001b[39m\u001b[38;5;124m\"\u001b[39m, \u001b[38;5;124m\"\u001b[39m\u001b[38;5;124mNonLinearEnergy\u001b[39m\u001b[38;5;124m\"\u001b[39m, \u001b[38;5;124m\"\u001b[39m\u001b[38;5;124mSVD_Entropy\u001b[39m\u001b[38;5;124m\"\u001b[39m, \u001b[38;5;124m\"\u001b[39m\u001b[38;5;124mShannonEntropy\u001b[39m\u001b[38;5;124m\"\u001b[39m]}\n\u001b[1;32m     10\u001b[0m mode_result \u001b[38;5;241m=\u001b[39m mode(signal, nan_policy\u001b[38;5;241m=\u001b[39m\u001b[38;5;124m'\u001b[39m\u001b[38;5;124momit\u001b[39m\u001b[38;5;124m'\u001b[39m)\n\u001b[0;32m---> 11\u001b[0m mode_value \u001b[38;5;241m=\u001b[39m \u001b[43mmode_result\u001b[49m\u001b[38;5;241;43m.\u001b[39;49m\u001b[43mmode\u001b[49m\u001b[43m[\u001b[49m\u001b[38;5;241;43m0\u001b[39;49m\u001b[43m]\u001b[49m \u001b[38;5;28;01mif\u001b[39;00m mode_result\u001b[38;5;241m.\u001b[39mcount\u001b[38;5;241m.\u001b[39msize \u001b[38;5;241m>\u001b[39m \u001b[38;5;241m0\u001b[39m \u001b[38;5;28;01melse\u001b[39;00m np\u001b[38;5;241m.\u001b[39mnan\n\u001b[1;32m     13\u001b[0m features \u001b[38;5;241m=\u001b[39m {\n\u001b[1;32m     14\u001b[0m     \u001b[38;5;124m\"\u001b[39m\u001b[38;5;124mMode\u001b[39m\u001b[38;5;124m\"\u001b[39m: mode_value,\n\u001b[1;32m     15\u001b[0m     \u001b[38;5;124m\"\u001b[39m\u001b[38;5;124mMedian\u001b[39m\u001b[38;5;124m\"\u001b[39m: np\u001b[38;5;241m.\u001b[39mmedian(signal),\n\u001b[0;32m   (...)\u001b[0m\n\u001b[1;32m     20\u001b[0m     \u001b[38;5;124m\"\u001b[39m\u001b[38;5;124mNonLinearEnergy\u001b[39m\u001b[38;5;124m\"\u001b[39m: np\u001b[38;5;241m.\u001b[39msum(signal[:\u001b[38;5;241m-\u001b[39m\u001b[38;5;241m2\u001b[39m] \u001b[38;5;241m*\u001b[39m signal[\u001b[38;5;241m1\u001b[39m:\u001b[38;5;241m-\u001b[39m\u001b[38;5;241m1\u001b[39m] \u001b[38;5;241m-\u001b[39m signal[\u001b[38;5;241m2\u001b[39m:] \u001b[38;5;241m*\u001b[39m\u001b[38;5;241m*\u001b[39m \u001b[38;5;241m2\u001b[39m) \u001b[38;5;28;01mif\u001b[39;00m \u001b[38;5;28mlen\u001b[39m(signal) \u001b[38;5;241m>\u001b[39m \u001b[38;5;241m2\u001b[39m \u001b[38;5;28;01melse\u001b[39;00m np\u001b[38;5;241m.\u001b[39mnan,\n\u001b[1;32m     21\u001b[0m }\n\u001b[1;32m     23\u001b[0m \u001b[38;5;66;03m# Singular Value Decomposition (SVD) Entropy\u001b[39;00m\n",
      "\u001b[0;31mIndexError\u001b[0m: invalid index to scalar variable."
     ]
    }
   ],
   "source": [
    "cleaned_eda_folder = \"/Users/lamahasbini/Library/CloudStorage/OneDrive-AmericanUniversityofBeirut/FYP 2024-25 ECE/FYP_Fall_2024-2025/ML Implementation/Cleaned EDA input files\"\n",
    "output_folder = '/Users/lamahasbini/Library/CloudStorage/OneDrive-AmericanUniversityofBeirut/FYP 2024-25 ECE/FYP_Fall_2024-2025/ML Implementation/RF_first_try/features'\n",
    "\n",
    "os.makedirs(output_folder, exist_ok=True)\n",
    "\n",
    "def extract_features(signal):\n",
    "    if len(signal) == 0:\n",
    "        return {key: np.nan for key in [\"Mode\", \"Median\", \"MaxAbs\", \"LineLength\", \"10thQuantile\", \"75thQuantile\", \"NonLinearEnergy\", \"SVD_Entropy\", \"ShannonEntropy\"]}\n",
    "\n",
    "    mode_result = mode(signal, nan_policy='omit')\n",
    "\n",
    "    # Ensure mode_result.mode is iterable\n",
    "    mode_value = mode_result.mode[0] if isinstance(mode_result.mode, np.ndarray) and mode_result.mode.size > 0 else np.nan\n",
    "\n",
    "    features = {\n",
    "        \"Mode\": mode_value,\n",
    "        \"Median\": np.median(signal),\n",
    "        \"MaxAbs\": np.max(np.abs(signal)),\n",
    "        \"LineLength\": np.sum(np.abs(np.diff(signal))),\n",
    "        \"10thQuantile\": np.quantile(signal, 0.10),\n",
    "        \"75thQuantile\": np.quantile(signal, 0.75),\n",
    "        \"NonLinearEnergy\": np.sum(signal[:-2] * signal[1:-1] - signal[2:] ** 2) if len(signal) > 2 else np.nan,\n",
    "    }\n",
    "\n",
    "    # Singular Value Decomposition (SVD) Entropy\n",
    "    if len(signal) > 1:\n",
    "        U, S, V = np.linalg.svd(np.reshape(signal, (-1, 1)), full_matrices=False)\n",
    "        S_norm = S / np.sum(S)\n",
    "        features[\"SVD_Entropy\"] = -np.sum(S_norm * np.log2(S_norm + 1e-10))\n",
    "    else:\n",
    "        features[\"SVD_Entropy\"] = np.nan\n",
    "\n",
    "    # Shannon Entropy\n",
    "    hist, _ = np.histogram(signal, bins=10, density=True)\n",
    "    features[\"ShannonEntropy\"] = entropy(hist, base=2)\n",
    "\n",
    "    return features\n",
    "\n",
    "# Process all patients\n",
    "for file in os.listdir(data_directory):\n",
    "    if file.startswith(\"EDA_Analysis_\") and file.endswith(\".xlsx\"):\n",
    "        patient_id = file.replace(\"EDA_Analysis_\", \"\").replace(\".xlsx\", \"\")\n",
    "        excel_path = os.path.join(data_directory, file)\n",
    "        csv_path = os.path.join(cleaned_eda_folder, f\"EDA_{patient_id}.csv\")\n",
    "\n",
    "        if not os.path.exists(csv_path):\n",
    "            print(f\"Missing EDA file for {patient_id}, skipping...\")\n",
    "            continue\n",
    "\n",
    "        print(f\"Processing {patient_id}...\")\n",
    "\n",
    "        # Load epoch durations from Excel\n",
    "        df_excel = pd.read_excel(excel_path, sheet_name=\"Sheet3\")\n",
    "        epoch_durations = df_excel[\"Epoch duration (rounded)\"].dropna().values\n",
    "\n",
    "        # Load EDA signal data\n",
    "        df_eda = pd.read_csv(csv_path)\n",
    "        df_eda.columns = [\"EDA\"]\n",
    "        eda_signal = df_eda[\"EDA\"].values\n",
    "        feature_list = []\n",
    "\n",
    "        # Segment EDA signal based on epoch durations\n",
    "        start_idx = 0\n",
    "        for duration in epoch_durations:\n",
    "            end_idx = start_idx + int(duration)  # Convert duration to sample index\n",
    "\n",
    "            if end_idx > len(eda_signal):  \n",
    "                break  # Stop if we run out of data\n",
    "\n",
    "            epoch_signal = eda_signal[start_idx:end_idx]\n",
    "            features = extract_features(epoch_signal)\n",
    "            features[\"Patient_ID\"] = patient_id\n",
    "            feature_list.append(features)\n",
    "\n",
    "            start_idx = end_idx  # Move to next epoch\n",
    "\n",
    "        # Save extracted features\n",
    "        if feature_list:\n",
    "            feature_df = pd.DataFrame(feature_list)\n",
    "            output_path = os.path.join(output_folder, f\"Features_{patient_id}.csv\")\n",
    "            feature_df.to_csv(output_path, index=False)\n",
    "            print(f\"Saved features for {patient_id}\")\n",
    "\n",
    "print(\"Processing complete.\")"
   ]
  }
 ],
 "metadata": {
  "kernelspec": {
   "display_name": "myenv",
   "language": "python",
   "name": "python3"
  },
  "language_info": {
   "codemirror_mode": {
    "name": "ipython",
    "version": 3
   },
   "file_extension": ".py",
   "mimetype": "text/x-python",
   "name": "python",
   "nbconvert_exporter": "python",
   "pygments_lexer": "ipython3",
   "version": "3.9.16"
  }
 },
 "nbformat": 4,
 "nbformat_minor": 2
}
